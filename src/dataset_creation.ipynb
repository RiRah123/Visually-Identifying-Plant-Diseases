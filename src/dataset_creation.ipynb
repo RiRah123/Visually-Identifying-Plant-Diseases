{
 "cells": [
  {
   "cell_type": "code",
   "execution_count": 1,
   "metadata": {},
   "outputs": [],
   "source": [
    "import os\n",
    "import pandas as pd\n",
    "from pathlib import Path\n",
    "import random"
   ]
  },
  {
   "cell_type": "code",
   "execution_count": 17,
   "metadata": {},
   "outputs": [],
   "source": [
    "base_dir = Path(\"../dataset/raw\")\n",
    "output_dir = Path(\"../dataset/dataset_metadata\")\n",
    "PERCENT_USED = 0.2"
   ]
  },
  {
   "cell_type": "code",
   "execution_count": 18,
   "metadata": {},
   "outputs": [],
   "source": [
    "data = []\n",
    "for category_dir in base_dir.iterdir():\n",
    "    if category_dir.is_dir():\n",
    "        image_files = sorted(list(category_dir.glob(\"*.jpg\")))\n",
    "        sample_files = image_files[:int(len(image_files) * PERCENT_USED)]\n",
    "        \n",
    "        for file_path in sample_files:\n",
    "            filename = file_path.name\n",
    "            \n",
    "            parts = category_dir.name.split(\"_\")\n",
    "            plant_type = parts[0]\n",
    "            disease_type = parts[-1].split(\".\")[0].lower()  \n",
    "\n",
    "            data.append({\n",
    "                \"filename\": filename,\n",
    "                \"category\": category_dir.name,\n",
    "                \"plant_type\": plant_type,\n",
    "                \"disease_type\": disease_type\n",
    "            })\n",
    "\n",
    "df = pd.DataFrame(data)\n",
    "# Fix some disease category names\n",
    "df.loc[df['disease_type'] == 'measles)', 'disease_type'] = 'measles'\n",
    "df.loc[df['disease_type'] == 'greening)', 'disease_type'] = 'Citrus greening'\n",
    "df.loc[df['disease_type'] == 'spot)', 'disease_type'] = 'spot'\n",
    "df.loc[df['disease_type'] == '', 'disease_type'] = 'rust'\n",
    "\n",
    "train_df = df.sample(frac=0.8, random_state=42)\n",
    "test_df = df.drop(train_df.index)\n",
    "\n",
    "output_dir.mkdir(exist_ok=True) \n",
    "train_df.to_csv(output_dir / \"train_set.csv\", index=False)\n",
    "test_df.to_csv(output_dir / \"test_set.csv\", index=False)"
   ]
  },
  {
   "cell_type": "code",
   "execution_count": 19,
   "metadata": {},
   "outputs": [
    {
     "name": "stdout",
     "output_type": "stream",
     "text": [
      "All Disease Types:\n",
      "['scab' 'rot' 'rust' 'healthy' 'mildew' 'spot' 'blight' 'measles'\n",
      " 'Citrus greening' 'scorch' 'mold' 'mite' 'virus']\n",
      "\n",
      "\n",
      "All Plant Types:\n",
      "['Apple' 'Blueberry' 'Cherry' 'Corn' 'Grape' 'Orange' 'Peach' 'Pepper,'\n",
      " 'Potato' 'Raspberry' 'Soybean' 'Squash' 'Strawberry' 'Tomato']\n",
      "\n",
      "\n"
     ]
    }
   ],
   "source": [
    "print('All Disease Types:')\n",
    "print(df['disease_type'].unique())\n",
    "print('\\n')\n",
    "\n",
    "print('All Plant Types:')\n",
    "print(df['plant_type'].unique())\n",
    "print('\\n')"
   ]
  }
 ],
 "metadata": {
  "kernelspec": {
   "display_name": ".venv",
   "language": "python",
   "name": "python3"
  },
  "language_info": {
   "codemirror_mode": {
    "name": "ipython",
    "version": 3
   },
   "file_extension": ".py",
   "mimetype": "text/x-python",
   "name": "python",
   "nbconvert_exporter": "python",
   "pygments_lexer": "ipython3",
   "version": "3.11.7"
  },
  "orig_nbformat": 4
 },
 "nbformat": 4,
 "nbformat_minor": 2
}
