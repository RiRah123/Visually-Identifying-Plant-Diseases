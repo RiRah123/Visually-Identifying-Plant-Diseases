{
 "cells": [
  {
   "cell_type": "code",
   "execution_count": 21,
   "metadata": {},
   "outputs": [],
   "source": [
    "import pandas as pd\n",
    "import os\n",
    "import torch\n",
    "from torchvision import transforms as T\n",
    "from PIL import Image\n",
    "from torch.utils.data import DataLoader, Dataset\n",
    "from tqdm import tqdm"
   ]
  },
  {
   "cell_type": "code",
   "execution_count": 65,
   "metadata": {},
   "outputs": [],
   "source": [
    "class ImageDataset(Dataset):\n",
    "    def __init__(self, df, transform=None):\n",
    "        self.df = df\n",
    "        self.transform = transform\n",
    "\n",
    "    def __len__(self):\n",
    "        return len(self.df)\n",
    "\n",
    "    def __getitem__(self, idx):\n",
    "        category = self.df.iloc[idx]['category']\n",
    "        filename = self.df.iloc[idx]['filename']\n",
    "        \n",
    "        img_path = os.path.join('../dataset/raw', category, filename)\n",
    "        \n",
    "        image = Image.open(img_path).convert('RGB')\n",
    "\n",
    "        if self.transform is not None:\n",
    "            image = self.transform(image)\n",
    "\n",
    "        return image"
   ]
  },
  {
   "cell_type": "code",
   "execution_count": 48,
   "metadata": {},
   "outputs": [],
   "source": [
    "def dinov2_preprocess(H, W):\n",
    "    patch_size = 14\n",
    "    new_H = H - H % patch_size\n",
    "    new_W = W - W % patch_size\n",
    "    transform = T.Compose([\n",
    "        T.Resize((new_H, new_W), interpolation=T.InterpolationMode.BICUBIC),\n",
    "        T.ToTensor(),\n",
    "        T.Normalize(mean=(0.485, 0.456, 0.406), std=(0.229, 0.224, 0.225)),\n",
    "    ])\n",
    "\n",
    "    return transform"
   ]
  },
  {
   "cell_type": "code",
   "execution_count": 67,
   "metadata": {},
   "outputs": [],
   "source": [
    "# Initialize Preprocessing Transform\n",
    "img_shape = (256, 256)\n",
    "transform = dinov2_preprocess(*img_shape)\n",
    "\n",
    "# Initialize Dataset\n",
    "train_csv_path = '../dataset/dataset_metadata/train_set.csv'\n",
    "train_df = pd.read_csv(train_csv_path)\n",
    "train_dataset = ImageDataset(train_df, transform=transform)\n",
    "\n",
    "test_csv_path = '../dataset/dataset_metadata/test_set.csv'\n",
    "test_df = pd.read_csv(test_csv_path)\n",
    "test_dataset = ImageDataset(test_df, transform=transform)\n",
    "\n",
    "batch_size = 64\n",
    "train_dataloader = DataLoader(train_dataset, batch_size=batch_size, shuffle=False)\n",
    "test_dataloader = DataLoader(test_dataset, batch_size=batch_size, shuffle=False)"
   ]
  },
  {
   "cell_type": "code",
   "execution_count": 19,
   "metadata": {},
   "outputs": [
    {
     "name": "stderr",
     "output_type": "stream",
     "text": [
      "Using cache found in /home/hice1/asinghal81/.cache/torch/hub/facebookresearch_dinov2_main\n"
     ]
    },
    {
     "data": {
      "text/plain": [
       "DinoVisionTransformer(\n",
       "  (patch_embed): PatchEmbed(\n",
       "    (proj): Conv2d(3, 768, kernel_size=(14, 14), stride=(14, 14))\n",
       "    (norm): Identity()\n",
       "  )\n",
       "  (blocks): ModuleList(\n",
       "    (0-11): 12 x NestedTensorBlock(\n",
       "      (norm1): LayerNorm((768,), eps=1e-06, elementwise_affine=True)\n",
       "      (attn): MemEffAttention(\n",
       "        (qkv): Linear(in_features=768, out_features=2304, bias=True)\n",
       "        (attn_drop): Dropout(p=0.0, inplace=False)\n",
       "        (proj): Linear(in_features=768, out_features=768, bias=True)\n",
       "        (proj_drop): Dropout(p=0.0, inplace=False)\n",
       "      )\n",
       "      (ls1): LayerScale()\n",
       "      (drop_path1): Identity()\n",
       "      (norm2): LayerNorm((768,), eps=1e-06, elementwise_affine=True)\n",
       "      (mlp): Mlp(\n",
       "        (fc1): Linear(in_features=768, out_features=3072, bias=True)\n",
       "        (act): GELU(approximate='none')\n",
       "        (fc2): Linear(in_features=3072, out_features=768, bias=True)\n",
       "        (drop): Dropout(p=0.0, inplace=False)\n",
       "      )\n",
       "      (ls2): LayerScale()\n",
       "      (drop_path2): Identity()\n",
       "    )\n",
       "  )\n",
       "  (norm): LayerNorm((768,), eps=1e-06, elementwise_affine=True)\n",
       "  (head): Identity()\n",
       ")"
      ]
     },
     "execution_count": 19,
     "metadata": {},
     "output_type": "execute_result"
    }
   ],
   "source": [
    "dinov2_model = torch.hub.load('facebookresearch/dinov2', 'dinov2_vitb14')\n",
    "dinov2_model.eval()\n",
    "dinov2_model.cuda()"
   ]
  },
  {
   "cell_type": "code",
   "execution_count": 70,
   "metadata": {},
   "outputs": [
    {
     "name": "stderr",
     "output_type": "stream",
     "text": [
      "100%|██████████| 136/136 [01:29<00:00,  1.53it/s]\n",
      "100%|██████████| 34/34 [00:21<00:00,  1.57it/s]\n"
     ]
    }
   ],
   "source": [
    "# Compute all image embeddings (768 vector)\n",
    "\n",
    "def compute_embeddings(dataloader, num_images):\n",
    "    img_embeddings = torch.zeros((num_images, 768))\n",
    "\n",
    "    with torch.no_grad():\n",
    "        for i, images in tqdm(enumerate(dataloader), total=len(dataloader)):\n",
    "            images = images.cuda()\n",
    "            outputs = dinov2_model(images)\n",
    "\n",
    "            if i != len(dataloader) - 1:\n",
    "                img_embeddings[i*batch_size:(i+1)*batch_size, :] = outputs\n",
    "            else:\n",
    "                img_embeddings[i*batch_size:, :] = outputs\n",
    "\n",
    "    return img_embeddings\n",
    "\n",
    "train_img_embeddings = compute_embeddings(train_dataloader, len(train_df))\n",
    "test_img_embeddings = compute_embeddings(test_dataloader, len(test_df))"
   ]
  },
  {
   "cell_type": "code",
   "execution_count": 71,
   "metadata": {},
   "outputs": [
    {
     "name": "stdout",
     "output_type": "stream",
     "text": [
      "torch.Size([8679, 768]) torch.Size([2170, 768])\n"
     ]
    }
   ],
   "source": [
    "# Save image embeddings as tensor file, so we don't need to recompute every time\n",
    "torch.save(train_img_embeddings, '../dataset/img_embeddings/train_img_embeddings.pt')\n",
    "torch.save(test_img_embeddings, '../dataset/img_embeddings/test_img_embeddings.pt')\n",
    "print(train_img_embeddings.shape, test_img_embeddings.shape)"
   ]
  }
 ],
 "metadata": {
  "kernelspec": {
   "display_name": ".venv",
   "language": "python",
   "name": "python3"
  },
  "language_info": {
   "codemirror_mode": {
    "name": "ipython",
    "version": 3
   },
   "file_extension": ".py",
   "mimetype": "text/x-python",
   "name": "python",
   "nbconvert_exporter": "python",
   "pygments_lexer": "ipython3",
   "version": "3.11.7"
  },
  "orig_nbformat": 4
 },
 "nbformat": 4,
 "nbformat_minor": 2
}
